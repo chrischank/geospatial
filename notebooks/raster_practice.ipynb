{
 "cells": [
  {
   "cell_type": "code",
   "execution_count": 1,
   "metadata": {},
   "outputs": [],
   "source": [
    "###################################\n",
    "#GEE to analysis practice: Eliburn#\n",
    "#Maintainer: Christopher Chan     #\n",
    "#Date: 2024-06-04                 #\n",
    "#Version: 0.0.3                   #\n",
    "###################################\n",
    "\n",
    "import io\n",
    "import os, sys\n",
    "import pathlib\n",
    "import folium\n",
    "import ee\n",
    "import geemap\n",
    "import pysal\n",
    "import pygis\n",
    "import google.auth\n",
    "import geemap\n",
    "\n",
    "import numpy as np\n",
    "import pandas as pd\n",
    "import geopandas as gpd\n",
    "import matplotlib.pyplot as plt\n",
    "import seaborn as sns\n",
    "\n",
    "from datetime import datetime as dt\n",
    "from osgeo import gdal\n",
    "from googleapiclient.discovery import build\n",
    "from googleapiclient.errors import HttpError\n",
    "from googleapiclient.http import MediaIoBaseDownload\n",
    "\n",
    "ee.Authenticate()\n",
    "ee.Initialize()\n",
    "geemap.ee_initialize()\n",
    "\n",
    "# set paths\n",
    "data_path = pathlib.Path(\"../data\")\n",
    "docs_path = pathlib.Path(\"../docs\")"
   ]
  },
  {
   "cell_type": "code",
   "execution_count": 4,
   "metadata": {},
   "outputs": [
    {
     "data": {
      "text/html": [
       "\n",
       "            <style>\n",
       "                .geemap-dark {\n",
       "                    --jp-widgets-color: white;\n",
       "                    --jp-widgets-label-color: white;\n",
       "                    --jp-ui-font-color1: white;\n",
       "                    --jp-layout-color2: #454545;\n",
       "                    background-color: #383838;\n",
       "                }\n",
       "\n",
       "                .geemap-dark .jupyter-button {\n",
       "                    --jp-layout-color3: #383838;\n",
       "                }\n",
       "\n",
       "                .geemap-colab {\n",
       "                    background-color: var(--colab-primary-surface-color, white);\n",
       "                }\n",
       "\n",
       "                .geemap-colab .jupyter-button {\n",
       "                    --jp-layout-color3: var(--colab-primary-surface-color, white);\n",
       "                }\n",
       "            </style>\n",
       "            "
      ],
      "text/plain": [
       "<IPython.core.display.HTML object>"
      ]
     },
     "metadata": {},
     "output_type": "display_data"
    },
    {
     "name": "stdout",
     "output_type": "stream",
     "text": [
      "Geospatial data folder exist for 01_raw\n"
     ]
    }
   ],
   "source": [
    "# Image request specifications\n",
    "S2_coll = ee.ImageCollection('COPERNICUS/S2_SR_HARMONIZED')\n",
    "\n",
    "AOI = ee.Geometry.Polygon([\n",
    "  [-3.5623692655567663,55.89846606313462],\n",
    "  [-3.5489796781544225,55.89870667205676],\n",
    "  [-3.5458039426807897,55.89062139493942],\n",
    "  [-3.56751910686536,55.891632146720085],\n",
    "  [-3.5623692655567663,55.89846606313462],\n",
    "  ])\n",
    "\n",
    "startdate = str(dt(2023, 9, 1).date())\n",
    "todaydt = str(dt.today())\n",
    "enddate = str(dt.today().date())\n",
    "\n",
    "# Cloud mask (OMITS date:start timestamp, obsolete from Feb 2022?)\n",
    "def mask_s2_clouds(image):\n",
    "  \"\"\"Masks clouds in a Sentinel-2 image using the QA band.\n",
    "\n",
    "  Args:\n",
    "      image (ee.Image): A Sentinel-2 image.\n",
    "\n",
    "  Returns:\n",
    "      ee.Image: A cloud-masked Sentinel-2 image.\n",
    "  \"\"\"\n",
    "  qa = image.select('QA60')\n",
    "\n",
    "  # Bits 10 and 11 are clouds and cirrus, respectively.\n",
    "  cloud_bit_mask = 1 << 10\n",
    "  cirrus_bit_mask = 1 << 11\n",
    "\n",
    "  # Both flags should be set to zero, indicating clear conditions.\n",
    "  mask = (\n",
    "      qa.bitwiseAnd(cloud_bit_mask)\n",
    "      .eq(0)\n",
    "      .And(qa.bitwiseAnd(cirrus_bit_mask).eq(0))\n",
    "  )\n",
    "\n",
    "  return image.updateMask(mask).divide(10000)\n",
    "\n",
    "vis = {\n",
    "    'min': 0.0,\n",
    "    'max': 0.3,\n",
    "    'bands': ['B4', 'B3', 'B2'],\n",
    "}\n",
    "\n",
    "filteredCollection = (ee.ImageCollection(\"COPERNICUS/S2_HARMONIZED\")\n",
    "  .filterBounds(AOI)\n",
    "  .filterDate(startdate, enddate)\n",
    "  .filter(ee.Filter.lt('CLOUDY_PIXEL_PERCENTAGE', 20))\n",
    "  #.map(mask_s2_clouds)\n",
    "  )\n",
    "\n",
    "def clip_AOI(image):\n",
    "  return image.clip(AOI)\n",
    "\n",
    "clipmaskCollection = filteredCollection.map(clip_AOI)\n",
    "clipmask_median = clipmaskCollection.median()\n",
    "\n",
    "AOI_centre = AOI.centroid().coordinates().getInfo()\n",
    "\n",
    "# Create raster folder in 01_raw if not exist\n",
    "if not os.path.exists(pathlib.Path(f\"{data_path}/01_raw/raster\")):\n",
    "  os.makedirs(pathlib.Path(f\"{data_path}/01_raw/raster\"))\n",
    "elif not os.path.exists(pathlib.Path(f\"{data_path}/01_raw/vector\")):\n",
    "  os.makedirs(pathlib.Path(f\"{data_path}/01_raw/vector\"))\n",
    "else:\n",
    "  print(\"Geospatial data folder exist for 01_raw\")"
   ]
  },
  {
   "cell_type": "code",
   "execution_count": 5,
   "metadata": {},
   "outputs": [
    {
     "data": {
      "text/html": [
       "\n",
       "            <style>\n",
       "                .geemap-dark {\n",
       "                    --jp-widgets-color: white;\n",
       "                    --jp-widgets-label-color: white;\n",
       "                    --jp-ui-font-color1: white;\n",
       "                    --jp-layout-color2: #454545;\n",
       "                    background-color: #383838;\n",
       "                }\n",
       "\n",
       "                .geemap-dark .jupyter-button {\n",
       "                    --jp-layout-color3: #383838;\n",
       "                }\n",
       "\n",
       "                .geemap-colab {\n",
       "                    background-color: var(--colab-primary-surface-color, white);\n",
       "                }\n",
       "\n",
       "                .geemap-colab .jupyter-button {\n",
       "                    --jp-layout-color3: var(--colab-primary-surface-color, white);\n",
       "                }\n",
       "            </style>\n",
       "            "
      ],
      "text/plain": [
       "<IPython.core.display.HTML object>"
      ]
     },
     "metadata": {},
     "output_type": "display_data"
    }
   ],
   "source": [
    "# Download to google drive\n",
    "nimg = clipmaskCollection.toList(clipmaskCollection.size().getInfo()).size().getInfo()\n",
    "\n",
    "for i in range(nimg):\n",
    "    img = ee.Image(clipmaskCollection.toList(nimg).get(i))\n",
    "    reproj_img = img.reproject(crs=\"EPSG:27700\", scale=10)\n",
    "    date = reproj_img.date().format('YYYY-MM-dd').getInfo()\n",
    "\n",
    "    task = ee.batch.Export.image.toDrive(reproj_img.toFloat(),\n",
    "                                          description=date,\n",
    "                                          folder=f'L2A_Eliburn_{todaydt}',\n",
    "                                          fileNamePrefix= f\"L2A_Eliburn_{date}\",\n",
    "                                          crs='EPSG:27700',\n",
    "                                          region = AOI,\n",
    "                                          scale = 10,\n",
    "                                          fileFormat = 'GeoTIFF',)\n",
    "    task.start()\n"
   ]
  },
  {
   "cell_type": "code",
   "execution_count": 6,
   "metadata": {},
   "outputs": [
    {
     "data": {
      "text/html": [
       "\n",
       "            <style>\n",
       "                .geemap-dark {\n",
       "                    --jp-widgets-color: white;\n",
       "                    --jp-widgets-label-color: white;\n",
       "                    --jp-ui-font-color1: white;\n",
       "                    --jp-layout-color2: #454545;\n",
       "                    background-color: #383838;\n",
       "                }\n",
       "\n",
       "                .geemap-dark .jupyter-button {\n",
       "                    --jp-layout-color3: #383838;\n",
       "                }\n",
       "\n",
       "                .geemap-colab {\n",
       "                    background-color: var(--colab-primary-surface-color, white);\n",
       "                }\n",
       "\n",
       "                .geemap-colab .jupyter-button {\n",
       "                    --jp-layout-color3: var(--colab-primary-surface-color, white);\n",
       "                }\n",
       "            </style>\n",
       "            "
      ],
      "text/plain": [
       "<IPython.core.display.HTML object>"
      ]
     },
     "metadata": {},
     "output_type": "display_data"
    },
    {
     "data": {
      "application/vnd.jupyter.widget-view+json": {
       "model_id": "d8fbe0affa17409292b691af0087f7e4",
       "version_major": 2,
       "version_minor": 0
      },
      "text/plain": [
       "Map(center=[55.894552363344935, -3.5559986968427935], controls=(WidgetControl(options=['position', 'transparen…"
      ]
     },
     "execution_count": 6,
     "metadata": {},
     "output_type": "execute_result"
    }
   ],
   "source": [
    "Map = geemap.Map()\n",
    "Map.setCenter(AOI_centre[0], AOI_centre[1], 15)\n",
    "Map.addLayer(clipmask_median, vis, \"S2: L1C median\")\n",
    "\n",
    "Map"
   ]
  },
  {
   "cell_type": "code",
   "execution_count": 13,
   "metadata": {},
   "outputs": [
    {
     "data": {
      "text/html": [
       "\n",
       "            <style>\n",
       "                .geemap-dark {\n",
       "                    --jp-widgets-color: white;\n",
       "                    --jp-widgets-label-color: white;\n",
       "                    --jp-ui-font-color1: white;\n",
       "                    --jp-layout-color2: #454545;\n",
       "                    background-color: #383838;\n",
       "                }\n",
       "\n",
       "                .geemap-dark .jupyter-button {\n",
       "                    --jp-layout-color3: #383838;\n",
       "                }\n",
       "\n",
       "                .geemap-colab {\n",
       "                    background-color: var(--colab-primary-surface-color, white);\n",
       "                }\n",
       "\n",
       "                .geemap-colab .jupyter-button {\n",
       "                    --jp-layout-color3: var(--colab-primary-surface-color, white);\n",
       "                }\n",
       "            </style>\n",
       "            "
      ],
      "text/plain": [
       "<IPython.core.display.HTML object>"
      ]
     },
     "metadata": {},
     "output_type": "display_data"
    },
    {
     "name": "stdout",
     "output_type": "stream",
     "text": [
      "An error occurred: <HttpError 403 when requesting https://www.googleapis.com/drive/v3/files/%2F1Qb69M8nL1o-EcZijkhZBev_v8_Fam4-6?alt=media returned \"Request had insufficient authentication scopes.\". Details: \"[{'message': 'Insufficient Permission', 'domain': 'global', 'reason': 'insufficientPermissions'}]\">\n"
     ]
    },
    {
     "ename": "AttributeError",
     "evalue": "'NoneType' object has no attribute 'getvalue'",
     "output_type": "error",
     "traceback": [
      "\u001b[0;31m---------------------------------------------------------------------------\u001b[0m",
      "\u001b[0;31mAttributeError\u001b[0m                            Traceback (most recent call last)",
      "Cell \u001b[0;32mIn[13], line 35\u001b[0m\n\u001b[1;32m     31\u001b[0m     file \u001b[38;5;241m=\u001b[39m \u001b[38;5;28;01mNone\u001b[39;00m \n\u001b[1;32m     33\u001b[0m   \u001b[38;5;28;01mreturn\u001b[39;00m file\u001b[38;5;241m.\u001b[39mgetvalue()\n\u001b[0;32m---> 35\u001b[0m \u001b[43mdownload_file\u001b[49m\u001b[43m(\u001b[49m\u001b[43mreal_file_id\u001b[49m\u001b[43m \u001b[49m\u001b[38;5;241;43m=\u001b[39;49m\u001b[43m \u001b[49m\u001b[38;5;28;43mstr\u001b[39;49m\u001b[43m(\u001b[49m\u001b[38;5;28;43minput\u001b[39;49m\u001b[43m(\u001b[49m\u001b[38;5;124;43m\"\u001b[39;49m\u001b[38;5;124;43mEnter the folder ID from google drive: \u001b[39;49m\u001b[38;5;124;43m\"\u001b[39;49m\u001b[43m)\u001b[49m\u001b[43m)\u001b[49m\u001b[43m)\u001b[49m\n",
      "Cell \u001b[0;32mIn[13], line 33\u001b[0m, in \u001b[0;36mdownload_file\u001b[0;34m(real_file_id)\u001b[0m\n\u001b[1;32m     30\u001b[0m   \u001b[38;5;28mprint\u001b[39m(\u001b[38;5;124mf\u001b[39m\u001b[38;5;124m\"\u001b[39m\u001b[38;5;124mAn error occurred: \u001b[39m\u001b[38;5;132;01m{\u001b[39;00merror\u001b[38;5;132;01m}\u001b[39;00m\u001b[38;5;124m\"\u001b[39m)\n\u001b[1;32m     31\u001b[0m   file \u001b[38;5;241m=\u001b[39m \u001b[38;5;28;01mNone\u001b[39;00m \n\u001b[0;32m---> 33\u001b[0m \u001b[38;5;28;01mreturn\u001b[39;00m \u001b[43mfile\u001b[49m\u001b[38;5;241;43m.\u001b[39;49m\u001b[43mgetvalue\u001b[49m()\n",
      "\u001b[0;31mAttributeError\u001b[0m: 'NoneType' object has no attribute 'getvalue'"
     ]
    }
   ],
   "source": [
    "# Download from google drive\n",
    "def download_file(real_file_id):\n",
    "  \"\"\"Downloads a file\n",
    "  Args:\n",
    "      real_file_id: ID of the file to download\n",
    "  Returns : IO object with location.\n",
    "\n",
    "  Load pre-authorized user credentials from the environment.\n",
    "  TODO(developer) - See https://developers.google.com/identity\n",
    "  for guides on implementing OAuth2 for the application.\n",
    "  \"\"\"\n",
    "  creds, _ = google.auth.default()\n",
    "\n",
    "  try:\n",
    "    # create drive api client\n",
    "    service = build(\"drive\", \"v3\", credentials=creds)\n",
    "\n",
    "    file_id = real_file_id\n",
    "\n",
    "    # pylint: disable=maybe-no-member\n",
    "    request = service.files().get_media(fileId=file_id)\n",
    "    file = io.BytesIO()\n",
    "    downloader = MediaIoBaseDownload(file, request)\n",
    "    done = False\n",
    "    while done is False:\n",
    "      status, done = downloader.next_chunk()\n",
    "      print(f\"Download {int(status.progress() * 100)}.\")\n",
    "\n",
    "  except HttpError as error:\n",
    "    print(f\"An error occurred: {error}\")\n",
    "    file = None \n",
    "\n",
    "  return file.getvalue()\n",
    "\n",
    "download_file(real_file_id = str(input(\"Enter the folder ID from google drive: \")))"
   ]
  },
  {
   "cell_type": "code",
   "execution_count": null,
   "metadata": {},
   "outputs": [],
   "source": []
  }
 ],
 "metadata": {
  "kernelspec": {
   "display_name": "ds_geospatial",
   "language": "python",
   "name": "python3"
  },
  "language_info": {
   "codemirror_mode": {
    "name": "ipython",
    "version": 3
   },
   "file_extension": ".py",
   "mimetype": "text/x-python",
   "name": "python",
   "nbconvert_exporter": "python",
   "pygments_lexer": "ipython3",
   "version": "3.10.14"
  }
 },
 "nbformat": 4,
 "nbformat_minor": 2
}
